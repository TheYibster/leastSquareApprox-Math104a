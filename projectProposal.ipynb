{
 "cells": [
  {
   "cell_type": "markdown",
   "metadata": {},
   "source": [
    "# Least Squares Approximation Proposal"
   ]
  },
  {
   "cell_type": "markdown",
   "metadata": {},
   "source": [
    "## Motivation"
   ]
  },
  {
   "cell_type": "markdown",
   "metadata": {},
   "source": [
    "For a general linear system, let matrix $\\bold{A} \\in M_{nxm}(R)$ and vector $\\vec{b}\\in \\mathbb{R}^n$, we cannot always guarantee a solution $\\vec{x}$ exists such that $\\bold{A}\\vec{x} = \\vec{b}$. However, is there a solution $\\vec{x}$ such that $||\\bold{A}\\vec{x}- \\vec{b}||$ is as small as possible (i.e. the error/distance between our solution and the truth is as small as possible)? \n",
    "\n",
    "Yes, we can guarantee such an optimal solution with Least Squares Approximation."
   ]
  },
  {
   "cell_type": "markdown",
   "metadata": {},
   "source": [
    "## Definitions"
   ]
  },
  {
   "cell_type": "markdown",
   "metadata": {},
   "source": [
    "We will be using the following definitions and notations in our writeup:"
   ]
  },
  {
   "cell_type": "markdown",
   "metadata": {},
   "source": [
    "- Let $U\\subset V$ be a finite dimensional subspace of some vector space V. \n",
    "- The Orthogonal Projection of $V$ onto $U$ is the linear transformation:\n",
    "\n",
    "$$\n",
    "proj_U: V \\rightarrow V\n",
    "\\newline \n",
    "\\vec{v} \\rightarrow \\vec{v}^{\\parallel}\n",
    "\n",
    "\\newline\n",
    "\n",
    "\\text{where }\\vec{v}^{\\parallel}\\text{ and }\\vec{v}-\\vec{v}^{\\parallel}\\in U^{\\perp}\n",
    "$$\n"
   ]
  },
  {
   "cell_type": "markdown",
   "metadata": {},
   "source": [
    "## Theorem (1)"
   ]
  },
  {
   "cell_type": "markdown",
   "metadata": {},
   "source": [
    "Let $U\\subset V$ be as defined and $\\overrightarrow{v}\\in V$ Then,\n",
    "\n",
    "$$\n",
    "||\\vec{v}-proj_U(\\vec{v})|| \\leq ||\\vec{v}-\\vec{u}|| \\text{ for all } \\vec{u} \\in U\n",
    "$$"
   ]
  },
  {
   "cell_type": "markdown",
   "metadata": {},
   "source": [
    "Proof:"
   ]
  },
  {
   "cell_type": "markdown",
   "metadata": {},
   "source": []
  },
  {
   "cell_type": "markdown",
   "metadata": {},
   "source": [
    "## Theoerm (2)\n",
    "\n",
    "This answers our motivational question. The least squares solutions to the linear systerm $\\bold{A}\\vec{x} = \\vec{b}$ are the solutions to the linear system,\n",
    "\n",
    "$$\n",
    "(\\bold{A}^T\\bold{A})\\vec{x}=\\bold{A}^T\\vec{b}\n",
    "$$"
   ]
  },
  {
   "cell_type": "markdown",
   "metadata": {},
   "source": [
    "Proof:"
   ]
  },
  {
   "cell_type": "markdown",
   "metadata": {},
   "source": [
    "## Application of Least Square Solutions on Real Data"
   ]
  },
  {
   "cell_type": "markdown",
   "metadata": {},
   "source": []
  },
  {
   "cell_type": "code",
   "execution_count": 1,
   "metadata": {},
   "outputs": [
    {
     "name": "stderr",
     "output_type": "stream",
     "text": [
      "/var/folders/g2/_vml05q979nckwnglt908jqc0000gn/T/ipykernel_85440/2607054372.py:1: DeprecationWarning: \n",
      "Pyarrow will become a required dependency of pandas in the next major release of pandas (pandas 3.0),\n",
      "(to allow more performant data types, such as the Arrow string type, and better interoperability with other libraries)\n",
      "but was not found to be installed on your system.\n",
      "If this would cause problems for you,\n",
      "please provide us feedback at https://github.com/pandas-dev/pandas/issues/54466\n",
      "        \n",
      "  import pandas as pd\n"
     ]
    }
   ],
   "source": [
    "import pandas as pd\n",
    "import numpy as np\n",
    "import matplotlib.pyplot as plt\n",
    "import os\n",
    "import math"
   ]
  },
  {
   "cell_type": "markdown",
   "metadata": {},
   "source": [
    "Before we begin, we need to preprocess/clean the data which we will not fo over in indepth details."
   ]
  },
  {
   "cell_type": "code",
   "execution_count": 9,
   "metadata": {},
   "outputs": [
    {
     "data": {
      "text/html": [
       "<div>\n",
       "<style scoped>\n",
       "    .dataframe tbody tr th:only-of-type {\n",
       "        vertical-align: middle;\n",
       "    }\n",
       "\n",
       "    .dataframe tbody tr th {\n",
       "        vertical-align: top;\n",
       "    }\n",
       "\n",
       "    .dataframe thead th {\n",
       "        text-align: right;\n",
       "    }\n",
       "</style>\n",
       "<table border=\"1\" class=\"dataframe\">\n",
       "  <thead>\n",
       "    <tr style=\"text-align: right;\">\n",
       "      <th></th>\n",
       "      <th>Employee ID</th>\n",
       "      <th>Designation</th>\n",
       "      <th>Resource Allocation</th>\n",
       "      <th>Mental Fatigue Score</th>\n",
       "      <th>Burn Rate</th>\n",
       "    </tr>\n",
       "  </thead>\n",
       "  <tbody>\n",
       "    <tr>\n",
       "      <th>0</th>\n",
       "      <td>fffe32003000360033003200</td>\n",
       "      <td>2.0</td>\n",
       "      <td>3.0</td>\n",
       "      <td>3.8</td>\n",
       "      <td>0.16</td>\n",
       "    </tr>\n",
       "    <tr>\n",
       "      <th>1</th>\n",
       "      <td>fffe3700360033003500</td>\n",
       "      <td>1.0</td>\n",
       "      <td>2.0</td>\n",
       "      <td>5.0</td>\n",
       "      <td>0.36</td>\n",
       "    </tr>\n",
       "    <tr>\n",
       "      <th>3</th>\n",
       "      <td>fffe32003400380032003900</td>\n",
       "      <td>1.0</td>\n",
       "      <td>1.0</td>\n",
       "      <td>2.6</td>\n",
       "      <td>0.20</td>\n",
       "    </tr>\n",
       "    <tr>\n",
       "      <th>4</th>\n",
       "      <td>fffe31003900340031003600</td>\n",
       "      <td>3.0</td>\n",
       "      <td>7.0</td>\n",
       "      <td>6.9</td>\n",
       "      <td>0.52</td>\n",
       "    </tr>\n",
       "    <tr>\n",
       "      <th>5</th>\n",
       "      <td>fffe3300350037003500</td>\n",
       "      <td>2.0</td>\n",
       "      <td>4.0</td>\n",
       "      <td>3.6</td>\n",
       "      <td>0.29</td>\n",
       "    </tr>\n",
       "  </tbody>\n",
       "</table>\n",
       "</div>"
      ],
      "text/plain": [
       "                Employee ID  Designation  Resource Allocation  \\\n",
       "0  fffe32003000360033003200          2.0                  3.0   \n",
       "1      fffe3700360033003500          1.0                  2.0   \n",
       "3  fffe32003400380032003900          1.0                  1.0   \n",
       "4  fffe31003900340031003600          3.0                  7.0   \n",
       "5      fffe3300350037003500          2.0                  4.0   \n",
       "\n",
       "   Mental Fatigue Score  Burn Rate  \n",
       "0                   3.8       0.16  \n",
       "1                   5.0       0.36  \n",
       "3                   2.6       0.20  \n",
       "4                   6.9       0.52  \n",
       "5                   3.6       0.29  "
      ]
     },
     "execution_count": 9,
     "metadata": {},
     "output_type": "execute_result"
    }
   ],
   "source": [
    "data = pd.read_csv(\"./data/train.csv\")\n",
    "data_nona = data.dropna()\n",
    "data_clean = data_nona.drop(['Date of Joining','Gender','Company Type','WFH Setup Available'], axis=1)\n",
    "data_clean.head()"
   ]
  },
  {
   "cell_type": "code",
   "execution_count": 24,
   "metadata": {},
   "outputs": [
    {
     "data": {
      "image/png": "[encoded data removed]",
      "text/plain": [
       "<Figure size 640x480 with 2 Axes>"
      ]
     },
     "metadata": {},
     "output_type": "display_data"
    }
   ],
   "source": [
    "# Create a figure and subplots\n",
    "fig, (ax1, ax2) = plt.subplots(1, 2)\n",
    "\n",
    "# Plot subplot 1\n",
    "ax1.scatter(data_clean[\"Resource Allocation\"], data_clean[\"Burn Rate\"], color='r', s=1)\n",
    "ax1.set_title('RA and Burn Rate')\n",
    "ax1.set_xlabel('Resource Allocation')\n",
    "ax1.set_ylabel('Burnout Rate')\n",
    "\n",
    "# Plot subplot 2\n",
    "ax2.scatter(data_clean[\"Mental Fatigue Score\"], data_clean[\"Burn Rate\"], color='b', s=1)\n",
    "ax2.set_title('Mental Fatigue and Burnout rate')\n",
    "ax2.set_xlabel('Mental Fatigue')\n",
    "ax2.set_ylabel('Burnout')\n",
    "\n",
    "# Show plot\n",
    "plt.show()"
   ]
  },
  {
   "cell_type": "markdown",
   "metadata": {},
   "source": []
  }
 ],
 "metadata": {
  "kernelspec": {
   "display_name": "Python 3.11.6 64-bit",
   "language": "python",
   "name": "python3"
  },
  "language_info": {
   "codemirror_mode": {
    "name": "ipython",
    "version": 3
   },
   "file_extension": ".py",
   "mimetype": "text/x-python",
   "name": "python",
   "nbconvert_exporter": "python",
   "pygments_lexer": "ipython3",
   "version": "3.11.6"
  },
  "orig_nbformat": 4,
  "vscode": {
   "interpreter": {
    "hash": "aee8b7b246df8f9039afb4144a1f6fd8d2ca17a180786b69acc140d282b71a49"
   }
  }
 },
 "nbformat": 4,
 "nbformat_minor": 2
}
