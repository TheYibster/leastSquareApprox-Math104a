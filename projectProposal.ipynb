{
 "cells": [
  {
   "cell_type": "markdown",
   "metadata": {},
   "source": [
    "This project aims to explore the theory behind least squares approximation, implement algorithms for solving least squares problems, and demonstrate its applications through practical examples."
   ]
  },
  {
   "cell_type": "markdown",
   "metadata": {},
   "source": [
    "# Objective Outline:\n",
    "\n",
    "## Theoretical Understanding\n",
    "\n",
    "- Gain a deep understanding of the mathematical principles behind least squares approximation, including the derivation of the least squares solution.\n",
    "\n",
    "- Explore the motivation behind the least-squares solution\n",
    "\n",
    "## Proof-writing \n",
    "\n",
    "- Write a comprehensive proof for the least squares solutions; we are interested in proofs for the following 2 theorems,\n",
    "\n",
    "    - Let $U\\subset V$ be as defined and $\\overrightarrow{v}\\in V$ Then, \n",
    "    \n",
    "    $$||\\vec{v}-proj_U(\\vec{v})|| \\leq ||\\vec{v}-\\vec{u}|| \\text{ for all } \\vec{u} \\in U\n",
    "    $$\n",
    "\n",
    "    - The least squares solutions to the linear systerm $\\textbf{A}\\vec{x} = \\vec{b}$ are the solutions to the linear system,\n",
    "    $$\n",
    "    (\\textbf{A}^T\\textbf{A})\\vec{x}=\\textbf{A}^T\\vec{b}\n",
    "    $$\n",
    "\n",
    "## Apply to Real Data\n",
    "\n",
    "- Implement algorithms for solving least squares problems\n",
    "\n",
    "- Evaluate the performance and computational efficiency of least squares on real-world data.\n",
    "\n",
    "## Further Expand on the Idea of Least Squares\n",
    "\n",
    "- if time permits, we will explore more complicated systems of Least Squares Solutions\n",
    "\n",
    "    - Least Squares Interpolation\n",
    "\n",
    "    - Non-Linear Least Squares Approximation\n"
   ]
  },
  {
   "cell_type": "markdown",
   "metadata": {},
   "source": [
    "The proposed project on least squares approximation aims to deepen our understanding of this important mathematical technique and its practical applications. By implementing algorithms, we aim to demonstrate the technique of Least Squares Approximation in the real world."
   ]
  }
 ],
 "metadata": {
  "authors": [
   {
    "name": "Yibo Liang"
   },
   {
    "name": "Shenhuiyi Zhu"
   },
   {
    "name": "Yan Yu"
   },
   {
    "name": "Yanxu Jiang"
   },
   {
    "name": "Jiayu Yang"
   }
  ],
  "kernelspec": {
   "display_name": "Python 3.11.6 64-bit",
   "language": "python",
   "name": "python3"
  },
  "language_info": {
   "codemirror_mode": {
    "name": "ipython",
    "version": 3
   },
   "file_extension": ".py",
   "mimetype": "text/x-python",
   "name": "python",
   "nbconvert_exporter": "python",
   "pygments_lexer": "ipython3",
   "version": "3.11.6"
  },
  "title": "Least Squares Approximation and its Applications",
  "vscode": {
   "interpreter": {
    "hash": "aee8b7b246df8f9039afb4144a1f6fd8d2ca17a180786b69acc140d282b71a49"
   }
  }
 },
 "nbformat": 4,
 "nbformat_minor": 4
}
