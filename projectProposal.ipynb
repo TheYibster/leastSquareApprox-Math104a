{
 "cells": [
  {
   "cell_type": "markdown",
   "metadata": {},
   "source": [
    "# Least Squares Approximation Proposal"
   ]
  },
  {
   "cell_type": "markdown",
   "metadata": {},
   "source": [
    "## Motivation"
   ]
  },
  {
   "cell_type": "markdown",
   "metadata": {},
   "source": [
    "For a general linear system, let matrix $\\bold{A} \\in M_{nxm}(R)$ and vector $\\vec{b}\\in \\mathbb{R}^n$, we cannot always guarantee a solution $\\vec{x}$ exists such that $\\bold{A}\\vec{x} = \\vec{b}$. However, is there a solution $\\vec{x}$ such that $||\\bold{A}\\vec{x}- \\vec{b}||$ is as small as possible (i.e. the error/distance between our solution and the truth is as small as possible)? \n",
    "\n",
    "Yes, we can guarantee such an optimal solution with Least Squares Approximation."
   ]
  },
  {
   "cell_type": "markdown",
   "metadata": {},
   "source": [
    "## Definitions"
   ]
  },
  {
   "cell_type": "markdown",
   "metadata": {},
   "source": [
    "We will be using the following definitions and notations in our writeup:"
   ]
  },
  {
   "cell_type": "markdown",
   "metadata": {},
   "source": [
    "- Let $U\\subset V$ be a finite dimensional subspace of some vector space V. \n",
    "- The Orthogonal Projection of $V$ onto $U$ is the linear transformation:\n",
    "\n",
    "$$\n",
    "proj_U: V \\rightarrow V\n",
    "\\newline \n",
    "\\vec{v} \\rightarrow \\vec{v}^{\\parallel}\n",
    "\n",
    "\\newline\n",
    "\n",
    "\\text{where }\\vec{v}^{\\parallel}\\text{ and }\\vec{v}-\\vec{v}^{\\parallel}\\in U^{\\perp}\n",
    "$$\n"
   ]
  },
  {
   "cell_type": "markdown",
   "metadata": {},
   "source": [
    "## Theorem (1)"
   ]
  },
  {
   "cell_type": "markdown",
   "metadata": {},
   "source": [
    "Let $U\\subset V$ be as defined and $\\overrightarrow{v}\\in V$ Then,\n",
    "\n",
    "$$\n",
    "||\\vec{v}-proj_U(\\vec{v})|| \\leq ||\\vec{v}-\\vec{u}|| \\text{ for all } \\vec{u} \\in U\n",
    "$$"
   ]
  },
  {
   "cell_type": "markdown",
   "metadata": {},
   "source": [
    "Proof:"
   ]
  },
  {
   "cell_type": "markdown",
   "metadata": {},
   "source": []
  },
  {
   "cell_type": "markdown",
   "metadata": {},
   "source": [
    "## Theoerm (2)\n",
    "\n",
    "This answers our motivational question. The least squares solutions to the linear systerm $\\bold{A}\\vec{x} = \\vec{b}$ are the solutions to the linear system,\n",
    "\n",
    "$$\n",
    "(\\bold{A}^T\\bold{A})\\vec{x}=\\bold{A}^T\\vec{b}\n",
    "$$"
   ]
  },
  {
   "cell_type": "markdown",
   "metadata": {},
   "source": [
    "Proof:"
   ]
  },
  {
   "cell_type": "markdown",
   "metadata": {},
   "source": [
    "## Application of Least Square Solutions on Real Data"
   ]
  },
  {
   "cell_type": "markdown",
   "metadata": {},
   "source": []
  },
  {
   "cell_type": "code",
   "execution_count": null,
   "metadata": {},
   "outputs": [],
   "source": []
  }
 ],
 "metadata": {
  "language_info": {
   "name": "python"
  },
  "orig_nbformat": 4
 },
 "nbformat": 4,
 "nbformat_minor": 2
}
